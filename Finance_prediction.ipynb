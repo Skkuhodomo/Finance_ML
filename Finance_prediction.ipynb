{
  "nbformat": 4,
  "nbformat_minor": 0,
  "metadata": {
    "colab": {
      "provenance": [],
      "authorship_tag": "ABX9TyNrepPlk7+J/ATwg8fTHQfM"
    },
    "kernelspec": {
      "name": "python3",
      "display_name": "Python 3"
    },
    "language_info": {
      "name": "python"
    }
  },
  "cells": [
    {
      "cell_type": "markdown",
      "source": [
        "##Finance pretiction AI\n"
      ],
      "metadata": {
        "id": "FI5Yn3RO-c1j"
      }
    },
    {
      "cell_type": "code",
      "source": [
        "#import\n",
        "import numpy as np\n",
        "import matplotlib.pyplot as plt\n",
        "import pandas as pd\n",
        "import pandas_datareader as web\n",
        "import datetime as dt\n",
        "import yfinance as yf\n"
      ],
      "metadata": {
        "id": "sU3zUKuC-mPu"
      },
      "execution_count": 146,
      "outputs": []
    },
    {
      "cell_type": "code",
      "source": [
        "from sklearn.preprocessing import MinMaxScaler\n",
        "from tensorflow.keras.models import Sequential\n",
        "from tensorflow.keras.layers import Dense, Dropout, LSTM"
      ],
      "metadata": {
        "id": "YF5Cvs09-mSB"
      },
      "execution_count": 147,
      "outputs": []
    },
    {
      "cell_type": "code",
      "source": [
        "#Load Data\n",
        "company = 'AAPL'\n",
        "start = dt.datetime(2012,1,1)\n",
        "end = dt.datetime(2023, 1,1)"
      ],
      "metadata": {
        "id": "EBVecj-6-mW6"
      },
      "execution_count": 148,
      "outputs": []
    },
    {
      "cell_type": "code",
      "source": [
        "data = yf.download(company,start, end)"
      ],
      "metadata": {
        "colab": {
          "base_uri": "https://localhost:8080/"
        },
        "id": "5q0tcAHW-mZY",
        "outputId": "46053530-5018-473e-f273-bc3db8a82c26"
      },
      "execution_count": 149,
      "outputs": [
        {
          "output_type": "stream",
          "name": "stdout",
          "text": [
            "\r[*********************100%%**********************]  1 of 1 completed\n"
          ]
        }
      ]
    },
    {
      "cell_type": "code",
      "source": [
        "#prepare data\n",
        "scaler = MinMaxScaler(feature_range=(0,1))\n",
        "scaled_data = scaler.fit_transform(data['Close'].values.reshape(-1,1))"
      ],
      "metadata": {
        "id": "lXL26PcK-mbo"
      },
      "execution_count": 150,
      "outputs": []
    },
    {
      "cell_type": "code",
      "source": [
        "prediction_days = 60"
      ],
      "metadata": {
        "id": "Y01Il9BrA_y-"
      },
      "execution_count": 151,
      "outputs": []
    },
    {
      "cell_type": "code",
      "source": [
        "x_train = []\n",
        "y_train = []\n",
        "\n",
        "for x in range(prediction_days, len(scaled_data)):\n",
        "    x_train.append(scaled_data[x - prediction_days:x, 0])\n",
        "    y_train.append(scaled_data[x, 0])\n",
        "\n",
        "x_train, y_train = np.array(x_train), np.array(y_train)\n",
        "x_train = np.reshape(x_train, (x_train.shape[0], x_train.shape[1], 1))"
      ],
      "metadata": {
        "id": "ziZ8U8A6-mdw"
      },
      "execution_count": 152,
      "outputs": []
    },
    {
      "cell_type": "code",
      "source": [
        "# build the model\n",
        "\n",
        "model = Sequential()\n",
        "\n",
        "model.add(LSTM(units=50, return_sequences=True, input_shape=(x_train.shape[1], 1)))\n",
        "model.add(Dropout(0.2))\n",
        "model.add(LSTM(units=50, return_sequences=True))\n",
        "model.add(Dropout(0.2))\n",
        "model.add(LSTM(units=50))\n",
        "model.add(Dropout(0.2))\n",
        "model.add(Dense(units=1)) #predition of the next stock price\n",
        "\n",
        "model.compile(optimizer='adam', loss='mean_squared_error')\n",
        "model.fit(x_train, y_train, epochs=20, batch_size=32)"
      ],
      "metadata": {
        "colab": {
          "base_uri": "https://localhost:8080/"
        },
        "id": "S83dM58rHFi-",
        "outputId": "f97730ec-2f73-4677-cf6b-89c58b47bbb5"
      },
      "execution_count": 153,
      "outputs": [
        {
          "output_type": "stream",
          "name": "stdout",
          "text": [
            "Epoch 1/20\n",
            "85/85 [==============================] - 15s 109ms/step - loss: 0.0094\n",
            "Epoch 2/20\n",
            "85/85 [==============================] - 7s 85ms/step - loss: 0.0021\n",
            "Epoch 3/20\n",
            "85/85 [==============================] - 9s 109ms/step - loss: 0.0020\n",
            "Epoch 4/20\n",
            "85/85 [==============================] - 7s 84ms/step - loss: 0.0020\n",
            "Epoch 5/20\n",
            "85/85 [==============================] - 9s 109ms/step - loss: 0.0016\n",
            "Epoch 6/20\n",
            "85/85 [==============================] - 8s 94ms/step - loss: 0.0020\n",
            "Epoch 7/20\n",
            "85/85 [==============================] - 8s 99ms/step - loss: 0.0018\n",
            "Epoch 8/20\n",
            "85/85 [==============================] - 9s 107ms/step - loss: 0.0014\n",
            "Epoch 9/20\n",
            "85/85 [==============================] - 7s 86ms/step - loss: 0.0015\n",
            "Epoch 10/20\n",
            "85/85 [==============================] - 9s 108ms/step - loss: 0.0015\n",
            "Epoch 11/20\n",
            "85/85 [==============================] - 8s 90ms/step - loss: 0.0016\n",
            "Epoch 12/20\n",
            "85/85 [==============================] - 9s 108ms/step - loss: 0.0014\n",
            "Epoch 13/20\n",
            "85/85 [==============================] - 8s 89ms/step - loss: 0.0012\n",
            "Epoch 14/20\n",
            "85/85 [==============================] - 9s 109ms/step - loss: 0.0013\n",
            "Epoch 15/20\n",
            "85/85 [==============================] - 9s 106ms/step - loss: 0.0017\n",
            "Epoch 16/20\n",
            "85/85 [==============================] - 8s 88ms/step - loss: 0.0011\n",
            "Epoch 17/20\n",
            "85/85 [==============================] - 9s 108ms/step - loss: 0.0013\n",
            "Epoch 18/20\n",
            "85/85 [==============================] - 7s 85ms/step - loss: 0.0012\n",
            "Epoch 19/20\n",
            "85/85 [==============================] - 9s 109ms/step - loss: 0.0011\n",
            "Epoch 20/20\n",
            "85/85 [==============================] - 7s 85ms/step - loss: 0.0013\n"
          ]
        },
        {
          "output_type": "execute_result",
          "data": {
            "text/plain": [
              "<keras.src.callbacks.History at 0x7db4e6beffd0>"
            ]
          },
          "metadata": {},
          "execution_count": 153
        }
      ]
    },
    {
      "cell_type": "code",
      "source": [
        "test_start = dt.datetime(2023,1,1)\n",
        "test_end = dt.datetime.now()\n",
        "\n",
        "test_data = yf.download(company, start , end)\n",
        "actual_prices = test_data['Close'].values\n",
        "\n",
        "total_dataset = pd.concat((data['Close'], test_data['Close']))\n",
        "\n",
        "model_inputs = total_dataset[len(total_dataset) - len(test_data) - prediction_days:].values\n",
        "model_inputs = model_inputs.reshape(-1,1)\n",
        "model_inputs = scaler.transform(model_inputs)\n"
      ],
      "metadata": {
        "colab": {
          "base_uri": "https://localhost:8080/"
        },
        "id": "9BuX7UnyHFmD",
        "outputId": "2fb0c997-bd09-46f0-cd70-3d0fd2df4e9a"
      },
      "execution_count": 154,
      "outputs": [
        {
          "output_type": "stream",
          "name": "stdout",
          "text": [
            "\r[*********************100%%**********************]  1 of 1 completed\n"
          ]
        }
      ]
    },
    {
      "cell_type": "code",
      "source": [
        "# Make predictions on test data\n",
        "\n",
        "x_test = []\n",
        "\n",
        "for x in range(prediction_days, len(model_inputs)):\n",
        "    x_test.append(model_inputs[x - prediction_days:x,0])\n",
        "\n",
        "x_test = np.array(x_test)\n",
        "x_test = np.reshape(x_test, (x_test.shape[0], x_test.shape[1], 1))\n",
        "\n",
        "predicted_prices = model.predict(x_test)\n",
        "\n",
        "predicted_prices = scaler.inverse_transform(predicted_prices)"
      ],
      "metadata": {
        "colab": {
          "base_uri": "https://localhost:8080/"
        },
        "id": "PLE9kOtbHFpJ",
        "outputId": "818db5ef-98da-49b9-9c91-b44586c91007"
      },
      "execution_count": 155,
      "outputs": [
        {
          "output_type": "stream",
          "name": "stdout",
          "text": [
            "87/87 [==============================] - 5s 34ms/step\n"
          ]
        }
      ]
    },
    {
      "cell_type": "code",
      "source": [
        "# Plot the test predictions\n",
        "plt.plot(actual_prices, color = 'black', label=f\"Actual {company} Price\")\n",
        "plt.plot(predicted_prices, color = 'green', label=f\"Predicted {company} price\")\n",
        "plt.title(f\"{company} share price\")\n",
        "plt.xlabel('time')\n",
        "plt.ylabel(f\"{company} share price\")\n",
        "plt.legend()\n",
        "plt.show()"
      ],
      "metadata": {
        "colab": {
          "base_uri": "https://localhost:8080/",
          "height": 472
        },
        "id": "WZ5tyB-VHFrX",
        "outputId": "a77a6d4f-69d2-42e9-92cd-cc05898aa896"
      },
      "execution_count": 156,
      "outputs": [
        {
          "output_type": "display_data",
          "data": {
            "text/plain": [
              "<Figure size 640x480 with 1 Axes>"
            ],
            "image/png": "[encoded data removed]"
          },
          "metadata": {}
        }
      ]
    },
    {
      "cell_type": "code",
      "source": [
        "real_data = [model_inputs[len(model_inputs) + 1 - prediction_days:len(model_inputs)]]\n",
        "real_data = np.array(real_data)\n",
        "real_data = np.reshape(real_data, (real_data.shape[0], real_data.shape[1],1))\n",
        "\n",
        "prediction = model.predict(real_data)\n",
        "prediction = scaler.inverse_transform(prediction)\n",
        "print(f\"Prediction: {prediction}\")"
      ],
      "metadata": {
        "colab": {
          "base_uri": "https://localhost:8080/"
        },
        "id": "tMPPqrsCHcrJ",
        "outputId": "a118d779-ad12-40f9-fac5-ece3ec542e33"
      },
      "execution_count": 157,
      "outputs": [
        {
          "output_type": "stream",
          "name": "stdout",
          "text": [
            "1/1 [==============================] - 1s 1s/step\n",
            "Prediction: [[134.94069]]\n"
          ]
        }
      ]
    }
  ]
}